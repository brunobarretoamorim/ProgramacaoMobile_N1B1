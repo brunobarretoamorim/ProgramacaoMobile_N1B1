{
 "cells": [
  {
   "cell_type": "code",
   "execution_count": 1,
   "id": "43fd6bfb",
   "metadata": {},
   "outputs": [],
   "source": [
    "import pandas as pd"
   ]
  },
  {
   "cell_type": "code",
   "execution_count": 3,
   "id": "481553f7",
   "metadata": {},
   "outputs": [],
   "source": [
    "parametros_provas = pd.read_parquet('parametros_provas.parquet')\n",
    "parametros_provas.TP_LINGUA.fillna(-1,inplace=True)"
   ]
  },
  {
   "cell_type": "code",
   "execution_count": 12,
   "id": "8d7c3282",
   "metadata": {},
   "outputs": [
    {
     "name": "stderr",
     "output_type": "stream",
     "text": [
      "/usr/local/lib/python3.7/site-packages/ipykernel_launcher.py:5: SettingWithCopyWarning: \n",
      "A value is trying to be set on a copy of a slice from a DataFrame.\n",
      "Try using .loc[row_indexer,col_indexer] = value instead\n",
      "\n",
      "See the caveats in the documentation: https://pandas.pydata.org/pandas-docs/stable/user_guide/indexing.html#returning-a-view-versus-a-copy\n",
      "  \"\"\"\n",
      "/usr/local/lib/python3.7/site-packages/ipykernel_launcher.py:8: SettingWithCopyWarning: \n",
      "A value is trying to be set on a copy of a slice from a DataFrame.\n",
      "Try using .loc[row_indexer,col_indexer] = value instead\n",
      "\n",
      "See the caveats in the documentation: https://pandas.pydata.org/pandas-docs/stable/user_guide/indexing.html#returning-a-view-versus-a-copy\n",
      "  \n",
      "/usr/local/lib/python3.7/site-packages/pandas/core/indexing.py:1720: SettingWithCopyWarning: \n",
      "A value is trying to be set on a copy of a slice from a DataFrame.\n",
      "Try using .loc[row_indexer,col_indexer] = value instead\n",
      "\n",
      "See the caveats in the documentation: https://pandas.pydata.org/pandas-docs/stable/user_guide/indexing.html#returning-a-view-versus-a-copy\n",
      "  self._setitem_single_column(loc, value, pi)\n",
      "/usr/local/lib/python3.7/site-packages/pandas/core/frame.py:3191: SettingWithCopyWarning: \n",
      "A value is trying to be set on a copy of a slice from a DataFrame.\n",
      "Try using .loc[row_indexer,col_indexer] = value instead\n",
      "\n",
      "See the caveats in the documentation: https://pandas.pydata.org/pandas-docs/stable/user_guide/indexing.html#returning-a-view-versus-a-copy\n",
      "  self[k1] = value[k2]\n"
     ]
    }
   ],
   "source": [
    "df1 = pd.read_csv('prova_enem_2019_etl.csv',sep=';')\n",
    "\n",
    "df_espanhol = df1[df1['TP_LINGUA'] == 1]\n",
    "\n",
    "df_espanhol['TX_RESPOSTAS_LC'] = df_espanhol['TX_RESPOSTAS_LC'].str.replace('9','')\n",
    "\n",
    "df_espanhol_etl = df1[['NU_INSCRICAO','CO_PROVA_LC','TX_RESPOSTAS_LC']]    \n",
    "df_espanhol_etl[[c for c in range(1,46)]] = 0\n",
    "\n",
    "df_espanhol_etl[[c for c in range(1,46)]] = df_espanhol['TX_RESPOSTAS_LC'].apply(lambda x: pd.Series(list(x)))"
   ]
  },
  {
   "cell_type": "code",
   "execution_count": 133,
   "id": "406e5fbe",
   "metadata": {},
   "outputs": [],
   "source": [
    "def agrupaErros(df):\n",
    "    colunas_tratadas = []\n",
    "    for coluna in df.columns:\n",
    "        posicao_sub = coluna.find('_')\n",
    "        if posicao_sub != -1:\n",
    "            colunas_tratadas.append(coluna.replace(coluna[posicao_sub:],''))\n",
    "        else:\n",
    "            colunas_tratadas.append(coluna)\n",
    "\n",
    "    df.columns = colunas_tratadas\n",
    "\n",
    "    df = df.groupby(by=df.columns, axis=1).sum()\n",
    "    \n",
    "    return df\n",
    "\n",
    "def agregaProvas(dic):\n",
    "    df_final = pd.DataFrame()\n",
    "    for cod in dic.keys():\n",
    "        df_final = pd.concat([df_final,dic[cod]])\n",
    "        df_final.fillna(0,inplace=True)\n",
    "    return df_final"
   ]
  },
  {
   "cell_type": "code",
   "execution_count": 134,
   "id": "528e3784",
   "metadata": {},
   "outputs": [
    {
     "name": "stdout",
     "output_type": "stream",
     "text": [
      "513\n",
      "512\n",
      "514\n",
      "511\n",
      "525\n",
      "521\n",
      "554\n",
      "553\n",
      "552\n",
      "551\n",
      "565\n"
     ]
    }
   ],
   "source": [
    "provas_tratadas = {}\n",
    "\n",
    "cd_provas = parametros_provas[(parametros_provas['SG_AREA'] == 'LC') & (parametros_provas['TP_LINGUA'] == 1)]['CO_PROVA'].unique()\n",
    "\n",
    "co_provas = list(df_espanhol_etl.CO_PROVA_LC.unique())\n",
    "\n",
    "co_provas = [int(prova) for prova in co_provas]\n",
    "for co_prova in co_provas:\n",
    "    print(co_prova)\n",
    "    df_espanhol_etl_1 = pd.DataFrame()\n",
    "    df_espanhol_etl_1 = df_espanhol_etl[df_espanhol_etl['CO_PROVA_LC'] == co_prova][['NU_INSCRICAO']]\n",
    "    repetidas = {}\n",
    "    for posicao in range(1,46):\n",
    "        if co_prova in cd_provas:\n",
    "            if posicao <=5:\n",
    "                habilidade = parametros_provas[(parametros_provas['SG_AREA'] == 'LC') & (parametros_provas['TP_LINGUA'] == 1) \\\n",
    "                             & (parametros_provas['CO_PROVA'] == co_prova) & (parametros_provas['CO_POSICAO'] == posicao)]\\\n",
    "            ['Descricao_Habilidade'].values[0]\n",
    "\n",
    "                gabarito = parametros_provas[(parametros_provas['SG_AREA'] == 'LC') & (parametros_provas['TP_LINGUA'] == 1) \\\n",
    "                             & (parametros_provas['CO_PROVA'] == co_prova) & (parametros_provas['CO_POSICAO'] == posicao)]\\\n",
    "            ['TX_GABARITO'].values[0]\n",
    "            else:\n",
    "                habilidade = parametros_provas[(parametros_provas['SG_AREA'] == 'LC') & (parametros_provas['TP_LINGUA'] == -1) \\\n",
    "                             & (parametros_provas['CO_PROVA'] == co_prova) & (parametros_provas['CO_POSICAO'] == posicao)]\\\n",
    "            ['Descricao_Habilidade'].values[0]\n",
    "\n",
    "                gabarito = parametros_provas[(parametros_provas['SG_AREA'] == 'LC') & (parametros_provas['TP_LINGUA'] == -1) \\\n",
    "                             & (parametros_provas['CO_PROVA'] == co_prova) & (parametros_provas['CO_POSICAO'] == posicao)]\\\n",
    "            ['TX_GABARITO'].values[0]\n",
    "                \n",
    "            if habilidade not in list(df_espanhol_etl_1.columns):\n",
    "                df_espanhol_etl_1[habilidade] = df_espanhol_etl[df_espanhol_etl['CO_PROVA_LC'] == co_prova][posicao]\\\n",
    "                .apply(lambda x: 1 if x == gabarito else 0)\n",
    "                repetidas[habilidade] = 1\n",
    "            else:\n",
    "                cont  = repetidas[habilidade]+1\n",
    "                df_espanhol_etl_1[f'{habilidade}_{cont}'] = df_espanhol_etl[df_espanhol_etl['CO_PROVA_LC'] == co_prova][posicao]\\\n",
    "                .apply(lambda x: 1 if x == gabarito else 0)\n",
    "                repetidas[habilidade] +=1\n",
    "    \n",
    "    df_espanhol_etl_1.set_index('NU_INSCRICAO',inplace=True)\n",
    "    \n",
    "    df_espanhol_etl_1 = agrupaErros(df_espanhol_etl_1)\n",
    "    \n",
    "    provas_tratadas[co_prova] = df_espanhol_etl_1 \n",
    "    \n",
    "df_espanhol_final = agregaProvas(provas_tratadas)"
   ]
  },
  {
   "cell_type": "code",
   "execution_count": 136,
   "id": "28ae06e6",
   "metadata": {},
   "outputs": [
    {
     "name": "stderr",
     "output_type": "stream",
     "text": [
      "/usr/local/lib/python3.7/site-packages/ipykernel_launcher.py:3: SettingWithCopyWarning: \n",
      "A value is trying to be set on a copy of a slice from a DataFrame.\n",
      "Try using .loc[row_indexer,col_indexer] = value instead\n",
      "\n",
      "See the caveats in the documentation: https://pandas.pydata.org/pandas-docs/stable/user_guide/indexing.html#returning-a-view-versus-a-copy\n",
      "  This is separate from the ipykernel package so we can avoid doing imports until\n",
      "/usr/local/lib/python3.7/site-packages/ipykernel_launcher.py:6: SettingWithCopyWarning: \n",
      "A value is trying to be set on a copy of a slice from a DataFrame.\n",
      "Try using .loc[row_indexer,col_indexer] = value instead\n",
      "\n",
      "See the caveats in the documentation: https://pandas.pydata.org/pandas-docs/stable/user_guide/indexing.html#returning-a-view-versus-a-copy\n",
      "  \n",
      "/usr/local/lib/python3.7/site-packages/pandas/core/indexing.py:1720: SettingWithCopyWarning: \n",
      "A value is trying to be set on a copy of a slice from a DataFrame.\n",
      "Try using .loc[row_indexer,col_indexer] = value instead\n",
      "\n",
      "See the caveats in the documentation: https://pandas.pydata.org/pandas-docs/stable/user_guide/indexing.html#returning-a-view-versus-a-copy\n",
      "  self._setitem_single_column(loc, value, pi)\n",
      "/usr/local/lib/python3.7/site-packages/pandas/core/frame.py:3191: SettingWithCopyWarning: \n",
      "A value is trying to be set on a copy of a slice from a DataFrame.\n",
      "Try using .loc[row_indexer,col_indexer] = value instead\n",
      "\n",
      "See the caveats in the documentation: https://pandas.pydata.org/pandas-docs/stable/user_guide/indexing.html#returning-a-view-versus-a-copy\n",
      "  self[k1] = value[k2]\n"
     ]
    }
   ],
   "source": [
    "df_ingles = df1[df1['TP_LINGUA'] == 0]\n",
    "\n",
    "df_ingles['TX_RESPOSTAS_LC'] = df_ingles['TX_RESPOSTAS_LC'].str.replace('9','')\n",
    "\n",
    "df_ingles_etl = df1[['NU_INSCRICAO','CO_PROVA_LC','TX_RESPOSTAS_LC']]    \n",
    "df_ingles_etl[[c for c in range(1,46)]] = 0\n",
    "\n",
    "df_ingles_etl[[c for c in range(1,46)]] = df_ingles['TX_RESPOSTAS_LC'].apply(lambda x: pd.Series(list(x)))"
   ]
  },
  {
   "cell_type": "code",
   "execution_count": 137,
   "id": "ba002f6b",
   "metadata": {},
   "outputs": [
    {
     "name": "stdout",
     "output_type": "stream",
     "text": [
      "514\n",
      "513\n",
      "512\n",
      "511\n",
      "525\n",
      "521\n",
      "554\n",
      "553\n",
      "551\n",
      "552\n",
      "565\n"
     ]
    }
   ],
   "source": [
    "provas_tratadas = {}\n",
    "\n",
    "cd_provas = parametros_provas[(parametros_provas['SG_AREA'] == 'LC') & (parametros_provas['TP_LINGUA'] == 0)]['CO_PROVA'].unique()\n",
    "\n",
    "co_provas = list(df_ingles_etl.CO_PROVA_LC.unique())\n",
    "\n",
    "co_provas = [int(prova) for prova in co_provas]\n",
    "for co_prova in co_provas:\n",
    "    print(co_prova)\n",
    "    df_ingles_etl_1 = pd.DataFrame()\n",
    "    df_ingles_etl_1 = df_ingles_etl[df_ingles_etl['CO_PROVA_LC'] == co_prova][['NU_INSCRICAO']]\n",
    "    repetidas = {}\n",
    "    for posicao in range(1,46):\n",
    "        if co_prova in cd_provas:\n",
    "            if posicao <=5:\n",
    "                habilidade = parametros_provas[(parametros_provas['SG_AREA'] == 'LC') & (parametros_provas['TP_LINGUA'] == 0) \\\n",
    "                             & (parametros_provas['CO_PROVA'] == co_prova) & (parametros_provas['CO_POSICAO'] == posicao)]\\\n",
    "            ['Descricao_Habilidade'].values[0]\n",
    "\n",
    "                gabarito = parametros_provas[(parametros_provas['SG_AREA'] == 'LC') & (parametros_provas['TP_LINGUA'] == 0) \\\n",
    "                             & (parametros_provas['CO_PROVA'] == co_prova) & (parametros_provas['CO_POSICAO'] == posicao)]\\\n",
    "            ['TX_GABARITO'].values[0]\n",
    "            else:\n",
    "                habilidade = parametros_provas[(parametros_provas['SG_AREA'] == 'LC') & (parametros_provas['TP_LINGUA'] == -1) \\\n",
    "                             & (parametros_provas['CO_PROVA'] == co_prova) & (parametros_provas['CO_POSICAO'] == posicao)]\\\n",
    "            ['Descricao_Habilidade'].values[0]\n",
    "\n",
    "                gabarito = parametros_provas[(parametros_provas['SG_AREA'] == 'LC') & (parametros_provas['TP_LINGUA'] == -1) \\\n",
    "                             & (parametros_provas['CO_PROVA'] == co_prova) & (parametros_provas['CO_POSICAO'] == posicao)]\\\n",
    "            ['TX_GABARITO'].values[0]\n",
    "                \n",
    "            if habilidade not in list(df_ingles_etl_1.columns):\n",
    "                df_ingles_etl_1[habilidade] = df_ingles_etl[df_ingles_etl['CO_PROVA_LC'] == co_prova][posicao]\\\n",
    "                .apply(lambda x: 1 if x == gabarito else 0)\n",
    "                repetidas[habilidade] = 1\n",
    "            else:\n",
    "                cont  = repetidas[habilidade]+1\n",
    "                df_ingles_etl_1[f'{habilidade}_{cont}'] = df_ingles_etl[df_ingles_etl['CO_PROVA_LC'] == co_prova][posicao]\\\n",
    "                .apply(lambda x: 1 if x == gabarito else 0)\n",
    "                repetidas[habilidade] +=1\n",
    "    \n",
    "    df_ingles_etl_1.set_index('NU_INSCRICAO',inplace=True)\n",
    "    \n",
    "    df_ingles_etl_1 = agrupaErros(df_ingles_etl_1)\n",
    "    \n",
    "    provas_tratadas[co_prova] = df_ingles_etl_1 \n",
    "    \n",
    "df_ingles_final = agregaProvas(provas_tratadas)"
   ]
  },
  {
   "cell_type": "code",
   "execution_count": 138,
   "id": "d641b98f",
   "metadata": {},
   "outputs": [],
   "source": [
    "df_portugues_total = pd.concat([df_espanhol_final,df_ingles_final])"
   ]
  },
  {
   "cell_type": "code",
   "execution_count": 141,
   "id": "b752b92c",
   "metadata": {},
   "outputs": [],
   "source": [
    "df_portugues_total.drop_duplicates(inplace=True)"
   ]
  },
  {
   "cell_type": "code",
   "execution_count": 142,
   "id": "2b7ed4ba",
   "metadata": {},
   "outputs": [],
   "source": [
    "df_portugues_total.to_parquet('erroshabilidadeslc_grp.parquet')"
   ]
  },
  {
   "cell_type": "code",
   "execution_count": null,
   "id": "aa6b84d3",
   "metadata": {},
   "outputs": [],
   "source": []
  }
 ],
 "metadata": {
  "kernelspec": {
   "display_name": "Python 3",
   "language": "python",
   "name": "python3"
  },
  "language_info": {
   "codemirror_mode": {
    "name": "ipython",
    "version": 3
   },
   "file_extension": ".py",
   "mimetype": "text/x-python",
   "name": "python",
   "nbconvert_exporter": "python",
   "pygments_lexer": "ipython3",
   "version": "3.7.4"
  }
 },
 "nbformat": 4,
 "nbformat_minor": 5
}
