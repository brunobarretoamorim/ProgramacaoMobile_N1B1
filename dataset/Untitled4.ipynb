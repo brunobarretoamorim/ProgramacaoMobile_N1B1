{
 "cells": [
  {
   "cell_type": "code",
   "execution_count": null,
   "id": "d7c04d37",
   "metadata": {},
   "outputs": [],
   "source": [
    "!pip install swifter"
   ]
  },
  {
   "cell_type": "code",
   "execution_count": 52,
   "id": "f3222270",
   "metadata": {},
   "outputs": [],
   "source": [
    "import pandas as pd"
   ]
  },
  {
   "cell_type": "code",
   "execution_count": 53,
   "id": "9962f0e4",
   "metadata": {},
   "outputs": [],
   "source": [
    "df1 = pd.read_csv('prova_enem_2019_etl.csv',sep=';')"
   ]
  },
  {
   "cell_type": "code",
   "execution_count": 60,
   "id": "9136a5ce",
   "metadata": {},
   "outputs": [],
   "source": [
    "df_espanhol_colunas_usadas = df1[['NU_INSCRICAO','CO_PROVA_LC','TX_RESPOSTAS_LC']]\n",
    "\n",
    "import pandas as pd\n",
    "df_espanhol_etl = pd.DataFrame()\n",
    "for i in range(1,46):\n",
    "    df_espanhol_etl[i] = ''\n",
    "df_espanhol_etl = df1[['NU_INSCRICAO','CO_PROVA_LC','TX_RESPOSTAS_LC']]    \n",
    "df_espanhol_etl[[c for c in range(1,46)]] = 0"
   ]
  },
  {
   "cell_type": "code",
   "execution_count": 55,
   "id": "805c72e7",
   "metadata": {},
   "outputs": [],
   "source": [
    "df_espanhol = df1[df1['TP_LINGUA'] == 1]"
   ]
  },
  {
   "cell_type": "code",
   "execution_count": 56,
   "id": "375602b7",
   "metadata": {},
   "outputs": [],
   "source": [
    "df_espanhol['TX_RESPOSTAS_LC'] = df_espanhol['TX_RESPOSTAS_LC'].str.replace('9','')"
   ]
  },
  {
   "cell_type": "code",
   "execution_count": 62,
   "id": "5f2f9a7e",
   "metadata": {},
   "outputs": [],
   "source": [
    "df_espanhol_etl[[c for c in range(1,46)]] = df_espanhol['TX_RESPOSTAS_LC'].apply(lambda x: pd.Series(list(x)))"
   ]
  },
  {
   "cell_type": "code",
   "execution_count": 63,
   "id": "e450fc6f",
   "metadata": {},
   "outputs": [
    {
     "data": {
      "text/plain": [
       "datetime.datetime(2021, 5, 7, 19, 12, 18, 256468)"
      ]
     },
     "execution_count": 63,
     "metadata": {},
     "output_type": "execute_result"
    }
   ],
   "source": [
    "import datetime\n",
    "datetime.datetime.now()"
   ]
  },
  {
   "cell_type": "code",
   "execution_count": 65,
   "id": "eecc490f",
   "metadata": {},
   "outputs": [],
   "source": [
    "df_espanhol_etl.dropna(inplace=True)"
   ]
  },
  {
   "cell_type": "code",
   "execution_count": 67,
   "id": "2cc510cc",
   "metadata": {},
   "outputs": [
    {
     "data": {
      "text/plain": [
       "(1864695, 48)"
      ]
     },
     "execution_count": 67,
     "metadata": {},
     "output_type": "execute_result"
    }
   ],
   "source": [
    "df_espanhol_etl.shape"
   ]
  },
  {
   "cell_type": "code",
   "execution_count": 68,
   "id": "b0a5e90f",
   "metadata": {},
   "outputs": [],
   "source": [
    "cod_provas = parametros_lc.CO_PROVA.unique()\n",
    "provas_por_cod = {}\n",
    "provas_por_cod_filtrado = {}\n",
    "for i in cod_provas:\n",
    "    provas_por_cod[i] = df_espanhol_etl[df_espanhol_etl['CO_PROVA_LC'] == i]\n",
    "    for questao in df_ingles_etl_1.columns[1:]:\n",
    "        if questao <=5:\n",
    "            gabarito = parametros_lc[(parametros_lc['CO_PROVA'] == i) & \\\n",
    "                             (parametros_lc['CO_POSICAO'] == questao) & \\\n",
    "                             (parametros_lc['TP_LINGUA'] == 1)]['TX_GABARITO'].values[0]\n",
    "\n",
    "            habilidade = parametros_lc[(parametros_lc['CO_PROVA'] == i) & \\\n",
    "                                     (parametros_lc['CO_POSICAO'] == questao) & \\\n",
    "                                     (parametros_lc['TP_LINGUA'] == 1)]['Descricao_Habilidade'].values[0]\n",
    "            provas_por_cod[i][questao] = provas_por_cod[i][questao].apply(lambda x: habilidade \\\n",
    "                                                                          if x == gabarito else 0)\n",
    "        else:\n",
    "            gabarito = parametros_lc[(parametros_lc['CO_PROVA'] == i) & \\\n",
    "                             (parametros_lc['CO_POSICAO'] == questao) & \\\n",
    "                             (parametros_lc['TP_LINGUA'] == -1)]['TX_GABARITO'].values[0]\n",
    "\n",
    "            habilidade = parametros_lc[(parametros_lc['CO_PROVA'] == i) & \\\n",
    "                                     (parametros_lc['CO_POSICAO'] == questao) & \\\n",
    "                                     (parametros_lc['TP_LINGUA'] == -1)]['Descricao_Habilidade'].values[0]\n",
    "            provas_por_cod[i][questao] = provas_por_cod[i][questao].apply(lambda x: habilidade \\\n",
    "                                                                          if x == gabarito else 0)"
   ]
  },
  {
   "cell_type": "code",
   "execution_count": 2,
   "id": "61b27c7d",
   "metadata": {},
   "outputs": [
    {
     "name": "stderr",
     "output_type": "stream",
     "text": [
      "/usr/local/lib/python3.7/site-packages/ipykernel_launcher.py:5: SettingWithCopyWarning: \n",
      "A value is trying to be set on a copy of a slice from a DataFrame\n",
      "\n",
      "See the caveats in the documentation: https://pandas.pydata.org/pandas-docs/stable/user_guide/indexing.html#returning-a-view-versus-a-copy\n",
      "  \"\"\"\n",
      "/usr/local/lib/python3.7/site-packages/ipykernel_launcher.py:11: SettingWithCopyWarning: \n",
      "A value is trying to be set on a copy of a slice from a DataFrame.\n",
      "Try using .loc[row_indexer,col_indexer] = value instead\n",
      "\n",
      "See the caveats in the documentation: https://pandas.pydata.org/pandas-docs/stable/user_guide/indexing.html#returning-a-view-versus-a-copy\n",
      "  # This is added back by InteractiveShellApp.init_path()\n"
     ]
    }
   ],
   "source": [
    "import pandas as pd\n",
    "df0 = pd.read_csv('prova_enem_2019_etl.csv',sep=';')\n",
    "\n",
    "df_ingles = df0[df0['TP_LINGUA'] == 0]\n",
    "df_ingles.dropna(inplace=True)\n",
    "\n",
    "df_ingles_colunas_usadas = df_ingles[['NU_INSCRICAO','CO_PROVA_LC','TX_RESPOSTAS_LC']]\n",
    "\n",
    "df_ingles_etl = df_ingles[['NU_INSCRICAO','CO_PROVA_LC','TX_RESPOSTAS_LC']]\n",
    "for i in range(1,46):\n",
    "    df_ingles_etl[i] = ''\n",
    "    \n",
    "df_ingles_etl[[c for c in range(1,46)]] = 0\n",
    "df_ingles_etl['TX_RESPOSTAS_LC'] = df_ingles_etl['TX_RESPOSTAS_LC'].str.replace('9','')"
   ]
  },
  {
   "cell_type": "code",
   "execution_count": 4,
   "id": "ba244dfa",
   "metadata": {},
   "outputs": [
    {
     "data": {
      "application/vnd.jupyter.widget-view+json": {
       "model_id": "d5896ac459124fe5b1c616413c5d4d70",
       "version_major": 2,
       "version_minor": 0
      },
      "text/plain": [
       "Pandas Apply:   0%|          | 0/1837313 [00:00<?, ?it/s]"
      ]
     },
     "metadata": {},
     "output_type": "display_data"
    }
   ],
   "source": [
    "import swifter\n",
    "df_ingles_etl[[c for c in range(1,46)]] = df_ingles_etl['TX_RESPOSTAS_LC'].swifter.apply(lambda x: pd.Series(list(x)))\n"
   ]
  },
  {
   "cell_type": "code",
   "execution_count": 5,
   "id": "3489c703",
   "metadata": {},
   "outputs": [
    {
     "name": "stderr",
     "output_type": "stream",
     "text": [
      "/usr/local/lib/python3.7/site-packages/pandas/core/series.py:4469: SettingWithCopyWarning: \n",
      "A value is trying to be set on a copy of a slice from a DataFrame\n",
      "\n",
      "See the caveats in the documentation: https://pandas.pydata.org/pandas-docs/stable/user_guide/indexing.html#returning-a-view-versus-a-copy\n",
      "  downcast=downcast,\n"
     ]
    }
   ],
   "source": [
    "df_ingles_etl.set_index('NU_INSCRICAO',inplace=True)\n",
    "\n",
    "df_ingles_etl.drop(columns = ['TX_RESPOSTAS_LC'],inplace=True)\n",
    "\n",
    "parametros = pd.read_parquet('parametros_provas.parquet')\n",
    "parametros_lc = parametros[parametros['SG_AREA'] == 'LC']\n",
    "parametros_lc['TP_LINGUA'].fillna(-1,inplace = True)"
   ]
  },
  {
   "cell_type": "code",
   "execution_count": 7,
   "id": "d8e2a600",
   "metadata": {},
   "outputs": [],
   "source": [
    "df_ingles_etl_1 = df_ingles_etl.copy()"
   ]
  },
  {
   "cell_type": "code",
   "execution_count": 8,
   "id": "ffefec43",
   "metadata": {},
   "outputs": [
    {
     "data": {
      "text/plain": [
       "array([514., 513., 512., 511., 525., 521., 554., 551., 552., 553., 565.])"
      ]
     },
     "execution_count": 8,
     "metadata": {},
     "output_type": "execute_result"
    }
   ],
   "source": [
    "df_ingles_etl_1['CO_PROVA_LC'].unique()"
   ]
  },
  {
   "cell_type": "code",
   "execution_count": 42,
   "id": "c2217742",
   "metadata": {},
   "outputs": [],
   "source": [
    "import warnings\n",
    "warnings.filterwarnings(\"ignore\")"
   ]
  },
  {
   "cell_type": "code",
   "execution_count": 47,
   "id": "458ab7d4",
   "metadata": {},
   "outputs": [],
   "source": [
    "cod_provas = parametros_lc.CO_PROVA.unique()\n",
    "provas_por_cod = {}\n",
    "provas_por_cod_filtrado = {}\n",
    "for i in cod_provas:\n",
    "    provas_por_cod[i] = df_ingles_etl_1[df_ingles_etl_1['CO_PROVA_LC'] == i]\n",
    "    for questao in df_ingles_etl_1.columns[1:]:\n",
    "        if questao <=5:\n",
    "            gabarito = parametros_lc[(parametros_lc['CO_PROVA'] == i) & \\\n",
    "                             (parametros_lc['CO_POSICAO'] == questao) & \\\n",
    "                             (parametros_lc['TP_LINGUA'] == 0)]['TX_GABARITO'].values[0]\n",
    "\n",
    "            habilidade = parametros_lc[(parametros_lc['CO_PROVA'] == i) & \\\n",
    "                                     (parametros_lc['CO_POSICAO'] == questao) & \\\n",
    "                                     (parametros_lc['TP_LINGUA'] == 0)]['Descricao_Habilidade'].values[0]\n",
    "            provas_por_cod[i][questao] = provas_por_cod[i][questao].apply(lambda x: habilidade \\\n",
    "                                                                          if x == gabarito else 0)\n",
    "        else:\n",
    "            gabarito = parametros_lc[(parametros_lc['CO_PROVA'] == i) & \\\n",
    "                             (parametros_lc['CO_POSICAO'] == questao) & \\\n",
    "                             (parametros_lc['TP_LINGUA'] == -1)]['TX_GABARITO'].values[0]\n",
    "\n",
    "            habilidade = parametros_lc[(parametros_lc['CO_PROVA'] == i) & \\\n",
    "                                     (parametros_lc['CO_POSICAO'] == questao) & \\\n",
    "                                     (parametros_lc['TP_LINGUA'] == -1)]['Descricao_Habilidade'].values[0]\n",
    "            provas_por_cod[i][questao] = provas_por_cod[i][questao].apply(lambda x: habilidade \\\n",
    "                                                                          if x == gabarito else 0)"
   ]
  },
  {
   "cell_type": "code",
   "execution_count": 69,
   "id": "e34758ce",
   "metadata": {},
   "outputs": [],
   "source": [
    "espanhol_tratado = pd.DataFrame()\n",
    "for cod_prova in provas_por_cod.keys():\n",
    "    espanhol_tratado = pd.concat([provas_por_cod[cod_prova],espanhol_tratado])"
   ]
  },
  {
   "cell_type": "code",
   "execution_count": 70,
   "id": "6731c951",
   "metadata": {},
   "outputs": [
    {
     "data": {
      "text/plain": [
       "(1864648, 48)"
      ]
     },
     "execution_count": 70,
     "metadata": {},
     "output_type": "execute_result"
    }
   ],
   "source": [
    "espanhol_tratado.shape"
   ]
  },
  {
   "cell_type": "code",
   "execution_count": 51,
   "id": "a11277b6",
   "metadata": {},
   "outputs": [
    {
     "data": {
      "text/plain": [
       "(1837276, 46)"
      ]
     },
     "execution_count": 51,
     "metadata": {},
     "output_type": "execute_result"
    }
   ],
   "source": [
    "ingles_tratado.shape"
   ]
  },
  {
   "cell_type": "code",
   "execution_count": 71,
   "id": "58339856",
   "metadata": {},
   "outputs": [],
   "source": [
    "erroshabilidadesportugues_grp = pd.concat([espanhol_tratado,ingles_tratado])"
   ]
  },
  {
   "cell_type": "code",
   "execution_count": 86,
   "id": "da9e65a2",
   "metadata": {},
   "outputs": [],
   "source": [
    "for a in erroshabilidadesportugues_grp:\n",
    "    erroshabilidadesportugues_grp[a] = erroshabilidadesportugues_grp[a].astype(str)    "
   ]
  },
  {
   "cell_type": "code",
   "execution_count": 81,
   "id": "0c8e8ebb",
   "metadata": {},
   "outputs": [],
   "source": [
    "erroshabilidadesportugues_grp.reset_index(inplace=True)"
   ]
  },
  {
   "cell_type": "code",
   "execution_count": 83,
   "id": "675a2878",
   "metadata": {},
   "outputs": [],
   "source": [
    "erroshabilidadesportugues_grp.drop(columns = ['index'],inplace=True)"
   ]
  },
  {
   "cell_type": "code",
   "execution_count": 88,
   "id": "f0f18719",
   "metadata": {},
   "outputs": [],
   "source": [
    "erroshabilidadesportugues_grp.columns = erroshabilidadesportugues_grp.columns.map(str)"
   ]
  },
  {
   "cell_type": "code",
   "execution_count": 89,
   "id": "9cf4ef33",
   "metadata": {},
   "outputs": [],
   "source": [
    "erroshabilidadesportugues_grp.to_parquet('erroshabilidadesportugues_grp.parquet')"
   ]
  },
  {
   "cell_type": "code",
   "execution_count": 26,
   "id": "b2ca9add",
   "metadata": {},
   "outputs": [
    {
     "data": {
      "text/plain": [
       "NU_INSCRICAO\n",
       "190001004627                                                    0\n",
       "190001004647                                                    0\n",
       "190001004657                                                    0\n",
       "190001004664                                                    0\n",
       "190001004696    Associar vocábulos e expressões de um texto em...\n",
       "                                      ...                        \n",
       "190006120166                                                    0\n",
       "190006120177    Associar vocábulos e expressões de um texto em...\n",
       "190006120184                                                    0\n",
       "190006129587                                                    0\n",
       "190006129592    Associar vocábulos e expressões de um texto em...\n",
       "Name: 1, Length: 458149, dtype: object"
      ]
     },
     "execution_count": 26,
     "metadata": {},
     "output_type": "execute_result"
    }
   ],
   "source": [
    "df_ingles_etl_1[df_ingles_etl_1['CO_PROVA_LC'] == 514][1].apply(lambda x: habilidade if x == gabarito else 0)"
   ]
  },
  {
   "cell_type": "code",
   "execution_count": null,
   "id": "a62a7cf6",
   "metadata": {},
   "outputs": [],
   "source": []
  }
 ],
 "metadata": {
  "kernelspec": {
   "display_name": "Python 3",
   "language": "python",
   "name": "python3"
  },
  "language_info": {
   "codemirror_mode": {
    "name": "ipython",
    "version": 3
   },
   "file_extension": ".py",
   "mimetype": "text/x-python",
   "name": "python",
   "nbconvert_exporter": "python",
   "pygments_lexer": "ipython3",
   "version": "3.7.4"
  }
 },
 "nbformat": 4,
 "nbformat_minor": 5
}
